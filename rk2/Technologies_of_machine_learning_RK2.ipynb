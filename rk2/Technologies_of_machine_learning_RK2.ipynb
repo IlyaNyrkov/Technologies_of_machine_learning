{
  "nbformat": 4,
  "nbformat_minor": 0,
  "metadata": {
    "colab": {
      "name": "Technologies of machine learning RK2.ipynb",
      "provenance": [],
      "collapsed_sections": [],
      "toc_visible": true
    },
    "kernelspec": {
      "name": "python3",
      "display_name": "Python 3"
    },
    "language_info": {
      "name": "python"
    }
  },
  "cells": [
    {
      "cell_type": "markdown",
      "source": [
        "## Нырков Илья ИУ5-62Б \n",
        "\n",
        "## Вариант 14\n",
        "\n",
        "## Датасет: https://www.kaggle.com/datasets/noriuk/us-education-datasets-unification-project?resource=download\n",
        "набор данных о студентах американских образовательных учреждениях\n",
        "\n",
        "## Задание\n",
        " Для заданного набора данных (по Вашему варианту) постройте модели классификации или регрессии (в зависимости от конкретной задачи, рассматриваемой в наборе данных). Для построения моделей используйте методы 1 и 2 (по варианту для Вашей группы). Оцените качество моделей на основе подходящих метрик качества (не менее двух метрик). Какие метрики качества Вы использовали и почему? Какие выводы Вы можете сделать о качестве построенных моделей? Для построения моделей необходимо выполнить требуемую предобработку данных: заполнение пропусков, кодирование категориальных признаков, и т.д.\n",
        "\n",
        "## Задание по группам\n",
        "\n",
        "| Группа | Метод №1 | Метод №2 |\n",
        "| :---: | :---: | :---: |\n",
        "| ИУ5-62Б| Метод опорных векторов | Случайный лес |"
      ],
      "metadata": {
        "id": "BnbNjnxYN-ML"
      }
    },
    {
      "cell_type": "code",
      "execution_count": 63,
      "metadata": {
        "id": "HUDkyhP3J4XU"
      },
      "outputs": [],
      "source": [
        "import pandas as pd\n",
        "import numpy as np\n",
        "import matplotlib.pyplot as plt\n",
        "import seaborn as sns\n",
        "import matplotlib.pyplot as plt\n",
        "import seaborn as sns\n",
        "from sklearn import preprocessing\n",
        "from sklearn import svm\n",
        "from sklearn.model_selection import train_test_split, cross_val_score\n",
        "from sklearn.metrics import mean_absolute_error, mean_absolute_percentage_error, mean_squared_error\n",
        "from sklearn.datasets import load_iris\n",
        "from sklearn.preprocessing import StandardScaler, MinMaxScaler\n",
        "from sklearn.model_selection import train_test_split, GridSearchCV\n",
        "from sklearn.svm import SVC\n",
        "from sklearn.ensemble import RandomForestClassifier\n",
        "from sklearn.metrics import accuracy_score, precision_score, recall_score, f1_score, confusion_matrix, classification_report\n"
      ]
    },
    {
      "cell_type": "code",
      "source": [
        "data = pd.read_csv(\"drive/MyDrive/Colab Notebooks/states_all.csv\", sep=\",\")"
      ],
      "metadata": {
        "id": "ShLet760WaEY"
      },
      "execution_count": 2,
      "outputs": []
    },
    {
      "cell_type": "code",
      "source": [
        "data.info()\n",
        "data.head()"
      ],
      "metadata": {
        "colab": {
          "base_uri": "https://localhost:8080/",
          "height": 890
        },
        "id": "KnL1UwAyaIPG",
        "outputId": "4bce7803-0d34-41b1-fb79-109605161a93"
      },
      "execution_count": 3,
      "outputs": [
        {
          "output_type": "stream",
          "name": "stdout",
          "text": [
            "<class 'pandas.core.frame.DataFrame'>\n",
            "RangeIndex: 1715 entries, 0 to 1714\n",
            "Data columns (total 25 columns):\n",
            " #   Column                        Non-Null Count  Dtype  \n",
            "---  ------                        --------------  -----  \n",
            " 0   PRIMARY_KEY                   1715 non-null   object \n",
            " 1   STATE                         1715 non-null   object \n",
            " 2   YEAR                          1715 non-null   int64  \n",
            " 3   ENROLL                        1224 non-null   float64\n",
            " 4   TOTAL_REVENUE                 1275 non-null   float64\n",
            " 5   FEDERAL_REVENUE               1275 non-null   float64\n",
            " 6   STATE_REVENUE                 1275 non-null   float64\n",
            " 7   LOCAL_REVENUE                 1275 non-null   float64\n",
            " 8   TOTAL_EXPENDITURE             1275 non-null   float64\n",
            " 9   INSTRUCTION_EXPENDITURE       1275 non-null   float64\n",
            " 10  SUPPORT_SERVICES_EXPENDITURE  1275 non-null   float64\n",
            " 11  OTHER_EXPENDITURE             1224 non-null   float64\n",
            " 12  CAPITAL_OUTLAY_EXPENDITURE    1275 non-null   float64\n",
            " 13  GRADES_PK_G                   1542 non-null   float64\n",
            " 14  GRADES_KG_G                   1632 non-null   float64\n",
            " 15  GRADES_4_G                    1632 non-null   float64\n",
            " 16  GRADES_8_G                    1632 non-null   float64\n",
            " 17  GRADES_12_G                   1632 non-null   float64\n",
            " 18  GRADES_1_8_G                  1020 non-null   float64\n",
            " 19  GRADES_9_12_G                 1071 non-null   float64\n",
            " 20  GRADES_ALL_G                  1632 non-null   float64\n",
            " 21  AVG_MATH_4_SCORE              565 non-null    float64\n",
            " 22  AVG_MATH_8_SCORE              602 non-null    float64\n",
            " 23  AVG_READING_4_SCORE           650 non-null    float64\n",
            " 24  AVG_READING_8_SCORE           562 non-null    float64\n",
            "dtypes: float64(22), int64(1), object(2)\n",
            "memory usage: 335.1+ KB\n"
          ]
        },
        {
          "output_type": "execute_result",
          "data": {
            "text/plain": [
              "       PRIMARY_KEY       STATE  YEAR  ENROLL  TOTAL_REVENUE  FEDERAL_REVENUE  \\\n",
              "0     1992_ALABAMA     ALABAMA  1992     NaN      2678885.0         304177.0   \n",
              "1      1992_ALASKA      ALASKA  1992     NaN      1049591.0         106780.0   \n",
              "2     1992_ARIZONA     ARIZONA  1992     NaN      3258079.0         297888.0   \n",
              "3    1992_ARKANSAS    ARKANSAS  1992     NaN      1711959.0         178571.0   \n",
              "4  1992_CALIFORNIA  CALIFORNIA  1992     NaN     26260025.0        2072470.0   \n",
              "\n",
              "   STATE_REVENUE  LOCAL_REVENUE  TOTAL_EXPENDITURE  INSTRUCTION_EXPENDITURE  \\\n",
              "0      1659028.0       715680.0          2653798.0                1481703.0   \n",
              "1       720711.0       222100.0           972488.0                 498362.0   \n",
              "2      1369815.0      1590376.0          3401580.0                1435908.0   \n",
              "3       958785.0       574603.0          1743022.0                 964323.0   \n",
              "4     16546514.0      7641041.0         27138832.0               14358922.0   \n",
              "\n",
              "   ...  GRADES_4_G  GRADES_8_G  GRADES_12_G  GRADES_1_8_G  GRADES_9_12_G  \\\n",
              "0  ...     57948.0     58025.0      41167.0           NaN            NaN   \n",
              "1  ...      9748.0      8789.0       6714.0           NaN            NaN   \n",
              "2  ...     55433.0     49081.0      37410.0           NaN            NaN   \n",
              "3  ...     34632.0     36011.0      27651.0           NaN            NaN   \n",
              "4  ...    418418.0    363296.0     270675.0           NaN            NaN   \n",
              "\n",
              "   GRADES_ALL_G  AVG_MATH_4_SCORE  AVG_MATH_8_SCORE  AVG_READING_4_SCORE  \\\n",
              "0      731634.0             208.0             252.0                207.0   \n",
              "1      122487.0               NaN               NaN                  NaN   \n",
              "2      673477.0             215.0             265.0                209.0   \n",
              "3      441490.0             210.0             256.0                211.0   \n",
              "4     5254844.0             208.0             261.0                202.0   \n",
              "\n",
              "   AVG_READING_8_SCORE  \n",
              "0                  NaN  \n",
              "1                  NaN  \n",
              "2                  NaN  \n",
              "3                  NaN  \n",
              "4                  NaN  \n",
              "\n",
              "[5 rows x 25 columns]"
            ],
            "text/html": [
              "\n",
              "  <div id=\"df-e20c9bb3-609b-4d45-8c12-9b4dc254cdf6\">\n",
              "    <div class=\"colab-df-container\">\n",
              "      <div>\n",
              "<style scoped>\n",
              "    .dataframe tbody tr th:only-of-type {\n",
              "        vertical-align: middle;\n",
              "    }\n",
              "\n",
              "    .dataframe tbody tr th {\n",
              "        vertical-align: top;\n",
              "    }\n",
              "\n",
              "    .dataframe thead th {\n",
              "        text-align: right;\n",
              "    }\n",
              "</style>\n",
              "<table border=\"1\" class=\"dataframe\">\n",
              "  <thead>\n",
              "    <tr style=\"text-align: right;\">\n",
              "      <th></th>\n",
              "      <th>PRIMARY_KEY</th>\n",
              "      <th>STATE</th>\n",
              "      <th>YEAR</th>\n",
              "      <th>ENROLL</th>\n",
              "      <th>TOTAL_REVENUE</th>\n",
              "      <th>FEDERAL_REVENUE</th>\n",
              "      <th>STATE_REVENUE</th>\n",
              "      <th>LOCAL_REVENUE</th>\n",
              "      <th>TOTAL_EXPENDITURE</th>\n",
              "      <th>INSTRUCTION_EXPENDITURE</th>\n",
              "      <th>...</th>\n",
              "      <th>GRADES_4_G</th>\n",
              "      <th>GRADES_8_G</th>\n",
              "      <th>GRADES_12_G</th>\n",
              "      <th>GRADES_1_8_G</th>\n",
              "      <th>GRADES_9_12_G</th>\n",
              "      <th>GRADES_ALL_G</th>\n",
              "      <th>AVG_MATH_4_SCORE</th>\n",
              "      <th>AVG_MATH_8_SCORE</th>\n",
              "      <th>AVG_READING_4_SCORE</th>\n",
              "      <th>AVG_READING_8_SCORE</th>\n",
              "    </tr>\n",
              "  </thead>\n",
              "  <tbody>\n",
              "    <tr>\n",
              "      <th>0</th>\n",
              "      <td>1992_ALABAMA</td>\n",
              "      <td>ALABAMA</td>\n",
              "      <td>1992</td>\n",
              "      <td>NaN</td>\n",
              "      <td>2678885.0</td>\n",
              "      <td>304177.0</td>\n",
              "      <td>1659028.0</td>\n",
              "      <td>715680.0</td>\n",
              "      <td>2653798.0</td>\n",
              "      <td>1481703.0</td>\n",
              "      <td>...</td>\n",
              "      <td>57948.0</td>\n",
              "      <td>58025.0</td>\n",
              "      <td>41167.0</td>\n",
              "      <td>NaN</td>\n",
              "      <td>NaN</td>\n",
              "      <td>731634.0</td>\n",
              "      <td>208.0</td>\n",
              "      <td>252.0</td>\n",
              "      <td>207.0</td>\n",
              "      <td>NaN</td>\n",
              "    </tr>\n",
              "    <tr>\n",
              "      <th>1</th>\n",
              "      <td>1992_ALASKA</td>\n",
              "      <td>ALASKA</td>\n",
              "      <td>1992</td>\n",
              "      <td>NaN</td>\n",
              "      <td>1049591.0</td>\n",
              "      <td>106780.0</td>\n",
              "      <td>720711.0</td>\n",
              "      <td>222100.0</td>\n",
              "      <td>972488.0</td>\n",
              "      <td>498362.0</td>\n",
              "      <td>...</td>\n",
              "      <td>9748.0</td>\n",
              "      <td>8789.0</td>\n",
              "      <td>6714.0</td>\n",
              "      <td>NaN</td>\n",
              "      <td>NaN</td>\n",
              "      <td>122487.0</td>\n",
              "      <td>NaN</td>\n",
              "      <td>NaN</td>\n",
              "      <td>NaN</td>\n",
              "      <td>NaN</td>\n",
              "    </tr>\n",
              "    <tr>\n",
              "      <th>2</th>\n",
              "      <td>1992_ARIZONA</td>\n",
              "      <td>ARIZONA</td>\n",
              "      <td>1992</td>\n",
              "      <td>NaN</td>\n",
              "      <td>3258079.0</td>\n",
              "      <td>297888.0</td>\n",
              "      <td>1369815.0</td>\n",
              "      <td>1590376.0</td>\n",
              "      <td>3401580.0</td>\n",
              "      <td>1435908.0</td>\n",
              "      <td>...</td>\n",
              "      <td>55433.0</td>\n",
              "      <td>49081.0</td>\n",
              "      <td>37410.0</td>\n",
              "      <td>NaN</td>\n",
              "      <td>NaN</td>\n",
              "      <td>673477.0</td>\n",
              "      <td>215.0</td>\n",
              "      <td>265.0</td>\n",
              "      <td>209.0</td>\n",
              "      <td>NaN</td>\n",
              "    </tr>\n",
              "    <tr>\n",
              "      <th>3</th>\n",
              "      <td>1992_ARKANSAS</td>\n",
              "      <td>ARKANSAS</td>\n",
              "      <td>1992</td>\n",
              "      <td>NaN</td>\n",
              "      <td>1711959.0</td>\n",
              "      <td>178571.0</td>\n",
              "      <td>958785.0</td>\n",
              "      <td>574603.0</td>\n",
              "      <td>1743022.0</td>\n",
              "      <td>964323.0</td>\n",
              "      <td>...</td>\n",
              "      <td>34632.0</td>\n",
              "      <td>36011.0</td>\n",
              "      <td>27651.0</td>\n",
              "      <td>NaN</td>\n",
              "      <td>NaN</td>\n",
              "      <td>441490.0</td>\n",
              "      <td>210.0</td>\n",
              "      <td>256.0</td>\n",
              "      <td>211.0</td>\n",
              "      <td>NaN</td>\n",
              "    </tr>\n",
              "    <tr>\n",
              "      <th>4</th>\n",
              "      <td>1992_CALIFORNIA</td>\n",
              "      <td>CALIFORNIA</td>\n",
              "      <td>1992</td>\n",
              "      <td>NaN</td>\n",
              "      <td>26260025.0</td>\n",
              "      <td>2072470.0</td>\n",
              "      <td>16546514.0</td>\n",
              "      <td>7641041.0</td>\n",
              "      <td>27138832.0</td>\n",
              "      <td>14358922.0</td>\n",
              "      <td>...</td>\n",
              "      <td>418418.0</td>\n",
              "      <td>363296.0</td>\n",
              "      <td>270675.0</td>\n",
              "      <td>NaN</td>\n",
              "      <td>NaN</td>\n",
              "      <td>5254844.0</td>\n",
              "      <td>208.0</td>\n",
              "      <td>261.0</td>\n",
              "      <td>202.0</td>\n",
              "      <td>NaN</td>\n",
              "    </tr>\n",
              "  </tbody>\n",
              "</table>\n",
              "<p>5 rows × 25 columns</p>\n",
              "</div>\n",
              "      <button class=\"colab-df-convert\" onclick=\"convertToInteractive('df-e20c9bb3-609b-4d45-8c12-9b4dc254cdf6')\"\n",
              "              title=\"Convert this dataframe to an interactive table.\"\n",
              "              style=\"display:none;\">\n",
              "        \n",
              "  <svg xmlns=\"http://www.w3.org/2000/svg\" height=\"24px\"viewBox=\"0 0 24 24\"\n",
              "       width=\"24px\">\n",
              "    <path d=\"M0 0h24v24H0V0z\" fill=\"none\"/>\n",
              "    <path d=\"M18.56 5.44l.94 2.06.94-2.06 2.06-.94-2.06-.94-.94-2.06-.94 2.06-2.06.94zm-11 1L8.5 8.5l.94-2.06 2.06-.94-2.06-.94L8.5 2.5l-.94 2.06-2.06.94zm10 10l.94 2.06.94-2.06 2.06-.94-2.06-.94-.94-2.06-.94 2.06-2.06.94z\"/><path d=\"M17.41 7.96l-1.37-1.37c-.4-.4-.92-.59-1.43-.59-.52 0-1.04.2-1.43.59L10.3 9.45l-7.72 7.72c-.78.78-.78 2.05 0 2.83L4 21.41c.39.39.9.59 1.41.59.51 0 1.02-.2 1.41-.59l7.78-7.78 2.81-2.81c.8-.78.8-2.07 0-2.86zM5.41 20L4 18.59l7.72-7.72 1.47 1.35L5.41 20z\"/>\n",
              "  </svg>\n",
              "      </button>\n",
              "      \n",
              "  <style>\n",
              "    .colab-df-container {\n",
              "      display:flex;\n",
              "      flex-wrap:wrap;\n",
              "      gap: 12px;\n",
              "    }\n",
              "\n",
              "    .colab-df-convert {\n",
              "      background-color: #E8F0FE;\n",
              "      border: none;\n",
              "      border-radius: 50%;\n",
              "      cursor: pointer;\n",
              "      display: none;\n",
              "      fill: #1967D2;\n",
              "      height: 32px;\n",
              "      padding: 0 0 0 0;\n",
              "      width: 32px;\n",
              "    }\n",
              "\n",
              "    .colab-df-convert:hover {\n",
              "      background-color: #E2EBFA;\n",
              "      box-shadow: 0px 1px 2px rgba(60, 64, 67, 0.3), 0px 1px 3px 1px rgba(60, 64, 67, 0.15);\n",
              "      fill: #174EA6;\n",
              "    }\n",
              "\n",
              "    [theme=dark] .colab-df-convert {\n",
              "      background-color: #3B4455;\n",
              "      fill: #D2E3FC;\n",
              "    }\n",
              "\n",
              "    [theme=dark] .colab-df-convert:hover {\n",
              "      background-color: #434B5C;\n",
              "      box-shadow: 0px 1px 3px 1px rgba(0, 0, 0, 0.15);\n",
              "      filter: drop-shadow(0px 1px 2px rgba(0, 0, 0, 0.3));\n",
              "      fill: #FFFFFF;\n",
              "    }\n",
              "  </style>\n",
              "\n",
              "      <script>\n",
              "        const buttonEl =\n",
              "          document.querySelector('#df-e20c9bb3-609b-4d45-8c12-9b4dc254cdf6 button.colab-df-convert');\n",
              "        buttonEl.style.display =\n",
              "          google.colab.kernel.accessAllowed ? 'block' : 'none';\n",
              "\n",
              "        async function convertToInteractive(key) {\n",
              "          const element = document.querySelector('#df-e20c9bb3-609b-4d45-8c12-9b4dc254cdf6');\n",
              "          const dataTable =\n",
              "            await google.colab.kernel.invokeFunction('convertToInteractive',\n",
              "                                                     [key], {});\n",
              "          if (!dataTable) return;\n",
              "\n",
              "          const docLinkHtml = 'Like what you see? Visit the ' +\n",
              "            '<a target=\"_blank\" href=https://colab.research.google.com/notebooks/data_table.ipynb>data table notebook</a>'\n",
              "            + ' to learn more about interactive tables.';\n",
              "          element.innerHTML = '';\n",
              "          dataTable['output_type'] = 'display_data';\n",
              "          await google.colab.output.renderOutput(dataTable, element);\n",
              "          const docLink = document.createElement('div');\n",
              "          docLink.innerHTML = docLinkHtml;\n",
              "          element.appendChild(docLink);\n",
              "        }\n",
              "      </script>\n",
              "    </div>\n",
              "  </div>\n",
              "  "
            ]
          },
          "metadata": {},
          "execution_count": 3
        }
      ]
    },
    {
      "cell_type": "code",
      "source": [
        "(data.isnull() | data.empty | data.isna()).sum()\n"
      ],
      "metadata": {
        "colab": {
          "base_uri": "https://localhost:8080/"
        },
        "id": "UKhqKnVcaX3w",
        "outputId": "b0bb4d4b-31a1-4a5e-c891-3ebd665e84a4"
      },
      "execution_count": 4,
      "outputs": [
        {
          "output_type": "execute_result",
          "data": {
            "text/plain": [
              "PRIMARY_KEY                        0\n",
              "STATE                              0\n",
              "YEAR                               0\n",
              "ENROLL                           491\n",
              "TOTAL_REVENUE                    440\n",
              "FEDERAL_REVENUE                  440\n",
              "STATE_REVENUE                    440\n",
              "LOCAL_REVENUE                    440\n",
              "TOTAL_EXPENDITURE                440\n",
              "INSTRUCTION_EXPENDITURE          440\n",
              "SUPPORT_SERVICES_EXPENDITURE     440\n",
              "OTHER_EXPENDITURE                491\n",
              "CAPITAL_OUTLAY_EXPENDITURE       440\n",
              "GRADES_PK_G                      173\n",
              "GRADES_KG_G                       83\n",
              "GRADES_4_G                        83\n",
              "GRADES_8_G                        83\n",
              "GRADES_12_G                       83\n",
              "GRADES_1_8_G                     695\n",
              "GRADES_9_12_G                    644\n",
              "GRADES_ALL_G                      83\n",
              "AVG_MATH_4_SCORE                1150\n",
              "AVG_MATH_8_SCORE                1113\n",
              "AVG_READING_4_SCORE             1065\n",
              "AVG_READING_8_SCORE             1153\n",
              "dtype: int64"
            ]
          },
          "metadata": {},
          "execution_count": 4
        }
      ]
    },
    {
      "cell_type": "markdown",
      "source": [
        "##Процент пропусков в каждом признаке"
      ],
      "metadata": {
        "id": "qhRtOigO61qY"
      }
    },
    {
      "cell_type": "code",
      "source": [
        "target_column = 'AVG_READING_4_SCORE'\n",
        "data = data[(data[target_column].isna() == False)]\n",
        "\n"
      ],
      "metadata": {
        "id": "IQ2OpR5ft5Pe"
      },
      "execution_count": 5,
      "outputs": []
    },
    {
      "cell_type": "code",
      "source": [
        "(data.isnull() | data.empty | data.isna()).sum()\n"
      ],
      "metadata": {
        "colab": {
          "base_uri": "https://localhost:8080/"
        },
        "outputId": "468b9df0-069d-4d54-9289-78c8c72d222b",
        "id": "JxzNXcNRt9wM"
      },
      "execution_count": 6,
      "outputs": [
        {
          "output_type": "execute_result",
          "data": {
            "text/plain": [
              "PRIMARY_KEY                       0\n",
              "STATE                             0\n",
              "YEAR                              0\n",
              "ENROLL                          169\n",
              "TOTAL_REVENUE                   127\n",
              "FEDERAL_REVENUE                 127\n",
              "STATE_REVENUE                   127\n",
              "LOCAL_REVENUE                   127\n",
              "TOTAL_EXPENDITURE               127\n",
              "INSTRUCTION_EXPENDITURE         127\n",
              "SUPPORT_SERVICES_EXPENDITURE    127\n",
              "OTHER_EXPENDITURE               169\n",
              "CAPITAL_OUTLAY_EXPENDITURE      127\n",
              "GRADES_PK_G                      81\n",
              "GRADES_KG_G                      76\n",
              "GRADES_4_G                       76\n",
              "GRADES_8_G                       76\n",
              "GRADES_12_G                      76\n",
              "GRADES_1_8_G                    209\n",
              "GRADES_9_12_G                   158\n",
              "GRADES_ALL_G                     76\n",
              "AVG_MATH_4_SCORE                129\n",
              "AVG_MATH_8_SCORE                129\n",
              "AVG_READING_4_SCORE               0\n",
              "AVG_READING_8_SCORE              88\n",
              "dtype: int64"
            ]
          },
          "metadata": {},
          "execution_count": 6
        }
      ]
    },
    {
      "cell_type": "code",
      "source": [
        "row_count = data.shape[0]\n",
        "for key, elem in (data.isnull() | data.empty | data.isna()).sum().items():\n",
        "  print(key, \"{:.2f}\".format(elem / row_count * 100) + \"%\" )"
      ],
      "metadata": {
        "colab": {
          "base_uri": "https://localhost:8080/"
        },
        "id": "ohoavrrbafkY",
        "outputId": "5c452536-fe9d-4d0e-a928-f92d15c6f5b7"
      },
      "execution_count": 7,
      "outputs": [
        {
          "output_type": "stream",
          "name": "stdout",
          "text": [
            "PRIMARY_KEY 0.00%\n",
            "STATE 0.00%\n",
            "YEAR 0.00%\n",
            "ENROLL 26.00%\n",
            "TOTAL_REVENUE 19.54%\n",
            "FEDERAL_REVENUE 19.54%\n",
            "STATE_REVENUE 19.54%\n",
            "LOCAL_REVENUE 19.54%\n",
            "TOTAL_EXPENDITURE 19.54%\n",
            "INSTRUCTION_EXPENDITURE 19.54%\n",
            "SUPPORT_SERVICES_EXPENDITURE 19.54%\n",
            "OTHER_EXPENDITURE 26.00%\n",
            "CAPITAL_OUTLAY_EXPENDITURE 19.54%\n",
            "GRADES_PK_G 12.46%\n",
            "GRADES_KG_G 11.69%\n",
            "GRADES_4_G 11.69%\n",
            "GRADES_8_G 11.69%\n",
            "GRADES_12_G 11.69%\n",
            "GRADES_1_8_G 32.15%\n",
            "GRADES_9_12_G 24.31%\n",
            "GRADES_ALL_G 11.69%\n",
            "AVG_MATH_4_SCORE 19.85%\n",
            "AVG_MATH_8_SCORE 19.85%\n",
            "AVG_READING_4_SCORE 0.00%\n",
            "AVG_READING_8_SCORE 13.54%\n"
          ]
        }
      ]
    },
    {
      "cell_type": "markdown",
      "source": [
        "###Заполнять пропуски в признаках, с процентом пустых значений более 30 имеет мало смысла, поэтому составим список признаков, которые нужно удалить. \n"
      ],
      "metadata": {
        "id": "MZticDSd8cFV"
      }
    },
    {
      "cell_type": "code",
      "source": [
        "row_count = data.shape[0]\n",
        "columns_to_remove = []\n",
        "for key, elem in (data.isnull() | data.empty | data.isna()).sum().items():\n",
        "  if elem / row_count >= 0.3:\n",
        "    columns_to_remove.append(key)\n",
        "columns_to_remove"
      ],
      "metadata": {
        "colab": {
          "base_uri": "https://localhost:8080/"
        },
        "id": "CMI2nVOi8bDm",
        "outputId": "9941f2a8-1731-41ee-fac7-cb7287faec6b"
      },
      "execution_count": 8,
      "outputs": [
        {
          "output_type": "execute_result",
          "data": {
            "text/plain": [
              "['GRADES_1_8_G']"
            ]
          },
          "metadata": {},
          "execution_count": 8
        }
      ]
    },
    {
      "cell_type": "code",
      "source": [
        "data_new = data.drop(columns_to_remove, axis=1)\n",
        "data_new.info()"
      ],
      "metadata": {
        "colab": {
          "base_uri": "https://localhost:8080/"
        },
        "id": "m7pzhb8W9R5x",
        "outputId": "545c44aa-2826-44bf-92c5-2313afd39395"
      },
      "execution_count": 9,
      "outputs": [
        {
          "output_type": "stream",
          "name": "stdout",
          "text": [
            "<class 'pandas.core.frame.DataFrame'>\n",
            "Int64Index: 650 entries, 0 to 1714\n",
            "Data columns (total 24 columns):\n",
            " #   Column                        Non-Null Count  Dtype  \n",
            "---  ------                        --------------  -----  \n",
            " 0   PRIMARY_KEY                   650 non-null    object \n",
            " 1   STATE                         650 non-null    object \n",
            " 2   YEAR                          650 non-null    int64  \n",
            " 3   ENROLL                        481 non-null    float64\n",
            " 4   TOTAL_REVENUE                 523 non-null    float64\n",
            " 5   FEDERAL_REVENUE               523 non-null    float64\n",
            " 6   STATE_REVENUE                 523 non-null    float64\n",
            " 7   LOCAL_REVENUE                 523 non-null    float64\n",
            " 8   TOTAL_EXPENDITURE             523 non-null    float64\n",
            " 9   INSTRUCTION_EXPENDITURE       523 non-null    float64\n",
            " 10  SUPPORT_SERVICES_EXPENDITURE  523 non-null    float64\n",
            " 11  OTHER_EXPENDITURE             481 non-null    float64\n",
            " 12  CAPITAL_OUTLAY_EXPENDITURE    523 non-null    float64\n",
            " 13  GRADES_PK_G                   569 non-null    float64\n",
            " 14  GRADES_KG_G                   574 non-null    float64\n",
            " 15  GRADES_4_G                    574 non-null    float64\n",
            " 16  GRADES_8_G                    574 non-null    float64\n",
            " 17  GRADES_12_G                   574 non-null    float64\n",
            " 18  GRADES_9_12_G                 492 non-null    float64\n",
            " 19  GRADES_ALL_G                  574 non-null    float64\n",
            " 20  AVG_MATH_4_SCORE              521 non-null    float64\n",
            " 21  AVG_MATH_8_SCORE              521 non-null    float64\n",
            " 22  AVG_READING_4_SCORE           650 non-null    float64\n",
            " 23  AVG_READING_8_SCORE           562 non-null    float64\n",
            "dtypes: float64(21), int64(1), object(2)\n",
            "memory usage: 127.0+ KB\n"
          ]
        }
      ]
    },
    {
      "cell_type": "markdown",
      "source": [
        "## Обработка пропусков данных\n",
        "Посмотрим средние значения в каждом столбце с пропусками"
      ],
      "metadata": {
        "id": "Z6OQEMM7RnZN"
      }
    },
    {
      "cell_type": "code",
      "source": [
        "for column in data_new:\n",
        "  if (data_new[column].isnull() | data_new[column].empty | data_new[column].isna()).sum() != 0:\n",
        "    if data_new[column].dtype != 'object':\n",
        "      print(column + \":\", data_new[column].describe()[['mean']][0])\n",
        "    else:\n",
        "      print(column + \":\", data_new[column].describe()[['top']][0])    \n"
      ],
      "metadata": {
        "colab": {
          "base_uri": "https://localhost:8080/"
        },
        "id": "lD6bAsu1RwQz",
        "outputId": "c19cceab-8ff7-46f4-bf98-b69d622857a4"
      },
      "execution_count": 10,
      "outputs": [
        {
          "output_type": "stream",
          "name": "stdout",
          "text": [
            "ENROLL: 934450.4885654886\n",
            "TOTAL_REVENUE: 9610588.969407266\n",
            "FEDERAL_REVENUE: 840781.4225621414\n",
            "STATE_REVENUE: 4467784.89292543\n",
            "LOCAL_REVENUE: 4302022.653919694\n",
            "TOTAL_EXPENDITURE: 9730734.829827916\n",
            "INSTRUCTION_EXPENDITURE: 5039264.764818355\n",
            "SUPPORT_SERVICES_EXPENDITURE: 2834123.634799235\n",
            "OTHER_EXPENDITURE: 461512.7006237006\n",
            "CAPITAL_OUTLAY_EXPENDITURE: 954404.3078393881\n",
            "GRADES_PK_G: 21156.2460456942\n",
            "GRADES_KG_G: 71505.45296167248\n",
            "GRADES_4_G: 72367.06794425087\n",
            "GRADES_8_G: 72312.85365853658\n",
            "GRADES_12_G: 62889.35017421603\n",
            "GRADES_9_12_G: 286875.8699186992\n",
            "GRADES_ALL_G: 961249.6393728222\n",
            "AVG_MATH_4_SCORE: 237.39539347408828\n",
            "AVG_MATH_8_SCORE: 279.9846449136276\n",
            "AVG_READING_8_SCORE: 263.55871886120997\n"
          ]
        }
      ]
    },
    {
      "cell_type": "markdown",
      "source": [
        "Заполним пропуски"
      ],
      "metadata": {
        "id": "gicN-qxe9cr-"
      }
    },
    {
      "cell_type": "code",
      "source": [
        "for column in data_new:\n",
        "  if (data_new[column].isnull() | data_new[column].empty | data_new[column].isna()).sum() != 0:\n",
        "    if data_new[column].dtype != 'object' and column != target_column:\n",
        "      data_new[column].fillna(data_new[column].median(), inplace=True)\n"
      ],
      "metadata": {
        "id": "cud_DP9r9ftz"
      },
      "execution_count": 38,
      "outputs": []
    },
    {
      "cell_type": "code",
      "source": [
        "(data_new.isnull() | data_new.empty | data_new.isna()).sum()"
      ],
      "metadata": {
        "colab": {
          "base_uri": "https://localhost:8080/"
        },
        "id": "3-Palst8-xz3",
        "outputId": "c49b601d-57a8-4632-c41f-6367ac943330"
      },
      "execution_count": 12,
      "outputs": [
        {
          "output_type": "execute_result",
          "data": {
            "text/plain": [
              "PRIMARY_KEY                     0\n",
              "STATE                           0\n",
              "YEAR                            0\n",
              "ENROLL                          0\n",
              "TOTAL_REVENUE                   0\n",
              "FEDERAL_REVENUE                 0\n",
              "STATE_REVENUE                   0\n",
              "LOCAL_REVENUE                   0\n",
              "TOTAL_EXPENDITURE               0\n",
              "INSTRUCTION_EXPENDITURE         0\n",
              "SUPPORT_SERVICES_EXPENDITURE    0\n",
              "OTHER_EXPENDITURE               0\n",
              "CAPITAL_OUTLAY_EXPENDITURE      0\n",
              "GRADES_PK_G                     0\n",
              "GRADES_KG_G                     0\n",
              "GRADES_4_G                      0\n",
              "GRADES_8_G                      0\n",
              "GRADES_12_G                     0\n",
              "GRADES_9_12_G                   0\n",
              "GRADES_ALL_G                    0\n",
              "AVG_MATH_4_SCORE                0\n",
              "AVG_MATH_8_SCORE                0\n",
              "AVG_READING_4_SCORE             0\n",
              "AVG_READING_8_SCORE             0\n",
              "dtype: int64"
            ]
          },
          "metadata": {},
          "execution_count": 12
        }
      ]
    },
    {
      "cell_type": "code",
      "source": [
        "data_new.info()"
      ],
      "metadata": {
        "colab": {
          "base_uri": "https://localhost:8080/"
        },
        "id": "eK23SYpYAJYe",
        "outputId": "c3cae0a3-cbe3-4b6a-c845-1bcee1d3848d"
      },
      "execution_count": 13,
      "outputs": [
        {
          "output_type": "stream",
          "name": "stdout",
          "text": [
            "<class 'pandas.core.frame.DataFrame'>\n",
            "Int64Index: 650 entries, 0 to 1714\n",
            "Data columns (total 24 columns):\n",
            " #   Column                        Non-Null Count  Dtype  \n",
            "---  ------                        --------------  -----  \n",
            " 0   PRIMARY_KEY                   650 non-null    object \n",
            " 1   STATE                         650 non-null    object \n",
            " 2   YEAR                          650 non-null    int64  \n",
            " 3   ENROLL                        650 non-null    float64\n",
            " 4   TOTAL_REVENUE                 650 non-null    float64\n",
            " 5   FEDERAL_REVENUE               650 non-null    float64\n",
            " 6   STATE_REVENUE                 650 non-null    float64\n",
            " 7   LOCAL_REVENUE                 650 non-null    float64\n",
            " 8   TOTAL_EXPENDITURE             650 non-null    float64\n",
            " 9   INSTRUCTION_EXPENDITURE       650 non-null    float64\n",
            " 10  SUPPORT_SERVICES_EXPENDITURE  650 non-null    float64\n",
            " 11  OTHER_EXPENDITURE             650 non-null    float64\n",
            " 12  CAPITAL_OUTLAY_EXPENDITURE    650 non-null    float64\n",
            " 13  GRADES_PK_G                   650 non-null    float64\n",
            " 14  GRADES_KG_G                   650 non-null    float64\n",
            " 15  GRADES_4_G                    650 non-null    float64\n",
            " 16  GRADES_8_G                    650 non-null    float64\n",
            " 17  GRADES_12_G                   650 non-null    float64\n",
            " 18  GRADES_9_12_G                 650 non-null    float64\n",
            " 19  GRADES_ALL_G                  650 non-null    float64\n",
            " 20  AVG_MATH_4_SCORE              650 non-null    float64\n",
            " 21  AVG_MATH_8_SCORE              650 non-null    float64\n",
            " 22  AVG_READING_4_SCORE           650 non-null    float64\n",
            " 23  AVG_READING_8_SCORE           650 non-null    float64\n",
            "dtypes: float64(21), int64(1), object(2)\n",
            "memory usage: 127.0+ KB\n"
          ]
        }
      ]
    },
    {
      "cell_type": "code",
      "source": [
        "category_cols = ['PRIMARY_KEY', 'STATE']\n",
        "print(\"Количество уникальных значений\\n\")\n",
        "for col in category_cols:\n",
        "    print(f'{col}: {data_new[col].unique().size}')"
      ],
      "metadata": {
        "colab": {
          "base_uri": "https://localhost:8080/"
        },
        "id": "W3-vdiwyAQOB",
        "outputId": "779009b5-c6b2-40be-9a8b-1fff5a1c0b1f"
      },
      "execution_count": 14,
      "outputs": [
        {
          "output_type": "stream",
          "name": "stdout",
          "text": [
            "Количество уникальных значений\n",
            "\n",
            "PRIMARY_KEY: 650\n",
            "STATE: 53\n"
          ]
        }
      ]
    },
    {
      "cell_type": "code",
      "source": [
        "data_new = data_new.drop(category_cols, axis=1)"
      ],
      "metadata": {
        "id": "ABvnPm_ICAFO"
      },
      "execution_count": 15,
      "outputs": []
    },
    {
      "cell_type": "code",
      "source": [
        "X_data = data_new[['YEAR',\n",
        " 'ENROLL',\n",
        " 'FEDERAL_REVENUE',\n",
        " 'STATE_REVENUE',\n",
        " 'LOCAL_REVENUE',\n",
        " 'INSTRUCTION_EXPENDITURE',\n",
        " 'SUPPORT_SERVICES_EXPENDITURE',\n",
        " 'OTHER_EXPENDITURE',\n",
        " 'CAPITAL_OUTLAY_EXPENDITURE',\n",
        " 'GRADES_ALL_G']] \n",
        "Y_data = data_new[target_column].to_list()"
      ],
      "metadata": {
        "id": "N-0q6SpkxFlx"
      },
      "execution_count": 42,
      "outputs": []
    },
    {
      "cell_type": "code",
      "source": [
        "X_data['YEAR'] = data_new['YEAR'] - data_new['YEAR'].mean()\n"
      ],
      "metadata": {
        "colab": {
          "base_uri": "https://localhost:8080/"
        },
        "id": "QGDeqI7xxc_C",
        "outputId": "cf3f546c-5659-44a8-933b-e6d7973ef265"
      },
      "execution_count": 43,
      "outputs": [
        {
          "output_type": "stream",
          "name": "stderr",
          "text": [
            "/usr/local/lib/python3.7/dist-packages/ipykernel_launcher.py:1: SettingWithCopyWarning: \n",
            "A value is trying to be set on a copy of a slice from a DataFrame.\n",
            "Try using .loc[row_indexer,col_indexer] = value instead\n",
            "\n",
            "See the caveats in the documentation: https://pandas.pydata.org/pandas-docs/stable/user_guide/indexing.html#returning-a-view-versus-a-copy\n",
            "  \"\"\"Entry point for launching an IPython kernel.\n"
          ]
        }
      ]
    },
    {
      "cell_type": "code",
      "source": [
        "X_data = preprocessing.normalize(X_data,axis = 0)\n"
      ],
      "metadata": {
        "id": "qEG1_nTUxfYd"
      },
      "execution_count": 18,
      "outputs": []
    },
    {
      "cell_type": "code",
      "source": [
        "X_data.shape\n"
      ],
      "metadata": {
        "colab": {
          "base_uri": "https://localhost:8080/"
        },
        "id": "llUWmB50xi6k",
        "outputId": "7ca45a02-212f-4327-c961-735935195d60"
      },
      "execution_count": 19,
      "outputs": [
        {
          "output_type": "execute_result",
          "data": {
            "text/plain": [
              "(650, 10)"
            ]
          },
          "metadata": {},
          "execution_count": 19
        }
      ]
    },
    {
      "cell_type": "code",
      "source": [
        "X_train, X_test, y_train, y_test = train_test_split(\n",
        "     X_data, Y_data, test_size=0.3, random_state=42)"
      ],
      "metadata": {
        "id": "zWvbpesRyPNK"
      },
      "execution_count": 20,
      "outputs": []
    },
    {
      "cell_type": "code",
      "source": [
        "data_new.isnull().sum()"
      ],
      "metadata": {
        "colab": {
          "base_uri": "https://localhost:8080/"
        },
        "id": "58eoN4NmUI2l",
        "outputId": "da912dca-1690-4ecc-ed60-71eeda5e77b5"
      },
      "execution_count": 39,
      "outputs": [
        {
          "output_type": "execute_result",
          "data": {
            "text/plain": [
              "YEAR                            0\n",
              "ENROLL                          0\n",
              "TOTAL_REVENUE                   0\n",
              "FEDERAL_REVENUE                 0\n",
              "STATE_REVENUE                   0\n",
              "LOCAL_REVENUE                   0\n",
              "TOTAL_EXPENDITURE               0\n",
              "INSTRUCTION_EXPENDITURE         0\n",
              "SUPPORT_SERVICES_EXPENDITURE    0\n",
              "OTHER_EXPENDITURE               0\n",
              "CAPITAL_OUTLAY_EXPENDITURE      0\n",
              "GRADES_PK_G                     0\n",
              "GRADES_KG_G                     0\n",
              "GRADES_4_G                      0\n",
              "GRADES_8_G                      0\n",
              "GRADES_12_G                     0\n",
              "GRADES_9_12_G                   0\n",
              "GRADES_ALL_G                    0\n",
              "AVG_MATH_4_SCORE                0\n",
              "AVG_MATH_8_SCORE                0\n",
              "AVG_READING_4_SCORE             0\n",
              "AVG_READING_8_SCORE             0\n",
              "dtype: int64"
            ]
          },
          "metadata": {},
          "execution_count": 39
        }
      ]
    },
    {
      "cell_type": "markdown",
      "source": [
        "## SVC\n",
        " Выбрал MAE, MSE и MAPE для оценки качества, так как это самые показательные метрики для регрессии\n",
        "\n"
      ],
      "metadata": {
        "id": "T-LKAZ-ERK0h"
      }
    },
    {
      "cell_type": "code",
      "source": [
        "svm_model = SVC()\n",
        "mape = -cross_val_score(svm_model,X_train,y_train,cv=4,scoring='neg_mean_absolute_percentage_error').mean()\n",
        "mae = -cross_val_score(svm_model,X_train,y_train,cv=4,scoring='neg_mean_absolute_error').mean()\n",
        "mse = -cross_val_score(svm_model,X_train,y_train,cv=4,scoring='neg_mean_squared_error').mean()\n",
        "print('SVM Errors')\n",
        "print('MAE:' + str(round(mae,3)) + ' MAPE:' + str(round(mape,3)) + ' MSE:' + str(round(mse,3)))"
      ],
      "metadata": {
        "colab": {
          "base_uri": "https://localhost:8080/"
        },
        "id": "n7BzSRjaxvA9",
        "outputId": "5056aa4e-d046-41e4-a036-26338763f5bc"
      },
      "execution_count": 61,
      "outputs": [
        {
          "output_type": "stream",
          "name": "stderr",
          "text": [
            "The least populated class in y has only 1 members, which is less than n_splits=4.\n",
            "The least populated class in y has only 1 members, which is less than n_splits=4.\n",
            "The least populated class in y has only 1 members, which is less than n_splits=4.\n"
          ]
        },
        {
          "output_type": "stream",
          "name": "stdout",
          "text": [
            "SVM Errors\n",
            "MAE:5.89 MAPE:0.028 MSE:65.313\n"
          ]
        }
      ]
    },
    {
      "cell_type": "code",
      "source": [
        "svm_model.fit(X_train,y_train)\n",
        "mae = mean_absolute_error(y_test,svm_model.predict(X_test)) \n",
        "mape = mean_absolute_percentage_error(y_test,svm_model.predict(X_test)) \n",
        "mse = mean_squared_error(y_test,svm_model.predict(X_test)) \n",
        "print('MAE:' + str(round(mae,3)) + ' MAPE:' + str(round(mape,3)) + ' MSE:' + str(round(mse,3)))"
      ],
      "metadata": {
        "id": "w5JutIeoyT9Y",
        "outputId": "1d5506a6-25d4-4e2d-ab15-050e1bc85ef3",
        "colab": {
          "base_uri": "https://localhost:8080/"
        }
      },
      "execution_count": 62,
      "outputs": [
        {
          "output_type": "stream",
          "name": "stdout",
          "text": [
            "MAE:5.462 MAPE:0.026 MSE:63.851\n"
          ]
        }
      ]
    },
    {
      "cell_type": "markdown",
      "source": [
        "# RandomForestClassifier\n"
      ],
      "metadata": {
        "id": "SFvjIpuNRz-E"
      }
    },
    {
      "cell_type": "code",
      "source": [
        "rfc_model = RandomForestClassifier()\n",
        "mape = -cross_val_score(rfc_model,X_train,y_train,cv=2,scoring='neg_mean_absolute_percentage_error').mean()\n",
        "mae = -cross_val_score(rfc_model,X_train,y_train,cv=2,scoring='neg_mean_absolute_error').mean()\n",
        "mse = -cross_val_score(rfc_model,X_train,y_train,cv=2,scoring='neg_mean_squared_error').mean()\n",
        "print('SVM Errors')\n",
        "print('MAE:' + str(round(mae,3)) + ' MAPE:' + str(round(mape,3)) + ' MSE:' + str(round(mse,3)))\n"
      ],
      "metadata": {
        "colab": {
          "base_uri": "https://localhost:8080/"
        },
        "id": "Nu3wAjscYZ8H",
        "outputId": "f087e897-5488-49e8-99c6-180eb70bb528"
      },
      "execution_count": 60,
      "outputs": [
        {
          "output_type": "stream",
          "name": "stderr",
          "text": [
            "The least populated class in y has only 1 members, which is less than n_splits=2.\n",
            "The least populated class in y has only 1 members, which is less than n_splits=2.\n",
            "The least populated class in y has only 1 members, which is less than n_splits=2.\n"
          ]
        },
        {
          "output_type": "stream",
          "name": "stdout",
          "text": [
            "SVM Errors\n",
            "MAE:4.264 MAPE:0.019 MSE:37.903\n"
          ]
        }
      ]
    },
    {
      "cell_type": "code",
      "source": [
        "rfc_model.fit(X_train,y_train)\n",
        "mae = mean_absolute_error(y_test,rfc_model.predict(X_test)) \n",
        "mape = mean_absolute_percentage_error(y_test,rfc_model.predict(X_test)) \n",
        "mse = mean_squared_error(y_test,rfc_model.predict(X_test)) \n",
        "print('MAE:' + str(round(mae,3)) + ' MAPE:' + str(round(mape,3)) + ' MSE:' + str(round(mse,3)))"
      ],
      "metadata": {
        "colab": {
          "base_uri": "https://localhost:8080/"
        },
        "id": "dojkz7LcYjTj",
        "outputId": "ecccd89b-19bb-4880-f852-0a38cc226ab5"
      },
      "execution_count": 57,
      "outputs": [
        {
          "output_type": "stream",
          "name": "stdout",
          "text": [
            "MAE:3.851 MAPE:0.018 MSE:34.333\n"
          ]
        }
      ]
    },
    {
      "cell_type": "markdown",
      "source": [
        "Можно сделать вывод о том, что обе модели очень хорошо показали себя на тестовых и тренировочных данных. Даже при условии что значений было немного.\n",
        "\n"
      ],
      "metadata": {
        "id": "1JVlA0ZaYqGg"
      }
    }
  ]
}